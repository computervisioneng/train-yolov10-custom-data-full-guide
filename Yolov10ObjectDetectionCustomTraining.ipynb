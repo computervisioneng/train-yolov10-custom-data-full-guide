{
  "nbformat": 4,
  "nbformat_minor": 0,
  "metadata": {
    "colab": {
      "provenance": [],
      "gpuType": "T4"
    },
    "kernelspec": {
      "name": "python3",
      "display_name": "Python 3"
    },
    "language_info": {
      "name": "python"
    },
    "accelerator": "GPU"
  },
  "cells": [
    {
      "cell_type": "code",
      "execution_count": null,
      "metadata": {
        "id": "ZJol0bHVnCND"
      },
      "outputs": [],
      "source": [
        "### 1. Mount Google Drive ###\n",
        "\n",
        "from google.colab import drive\n",
        "\n",
        "drive.mount('/content/gdrive')"
      ]
    },
    {
      "cell_type": "code",
      "source": [
        "### 2. Prepare data ###\n",
        "\n",
        "!scp '/content/gdrive/My Drive/Yolov10ObjectDetectionFullGuide/data.zip' '/content/data.zip'\n",
        "\n",
        "!unzip '/content/data.zip' -d '/content/'"
      ],
      "metadata": {
        "id": "5lvcOogrnENq",
        "collapsed": true
      },
      "execution_count": null,
      "outputs": []
    },
    {
      "cell_type": "code",
      "source": [
        "### 3. Install packages ###\n",
        "\n",
        "!git clone https://github.com/THU-MIG/yolov10.git\n",
        "!cd yolov10 && pip install ."
      ],
      "metadata": {
        "id": "eM4dTakBnGEc",
        "collapsed": true
      },
      "execution_count": null,
      "outputs": []
    },
    {
      "cell_type": "code",
      "source": [
        "### 4. Train model ###\n",
        "\n",
        "import os\n",
        "\n",
        "from ultralytics import YOLOv10\n",
        "\n",
        "\n",
        "config_path = '/content/gdrive/My Drive/Yolov10ObjectDetectionFullGuide/config.yaml'\n",
        "\n",
        "# Load a model\n",
        "model = YOLOv10.from_pretrained(\"jameslahm/yolov10n\")  # load pre trained model\n",
        "\n",
        "# Use the model\n",
        "model.train(data=config_path, epochs=200, batch=32)  # train the model\n"
      ],
      "metadata": {
        "id": "XsoRd4zKnHKm",
        "collapsed": true
      },
      "execution_count": null,
      "outputs": []
    },
    {
      "cell_type": "code",
      "source": [
        "### 5. Download results ###\n",
        "\n",
        "from google.colab import files\n",
        "\n",
        "\n",
        "!zip -r /content/runs.zip /content/runs\n",
        "\n",
        "files.download('/content/runs.zip')\n"
      ],
      "metadata": {
        "id": "7ndOIyhz-EYD",
        "collapsed": true
      },
      "execution_count": null,
      "outputs": []
    }
  ]
}